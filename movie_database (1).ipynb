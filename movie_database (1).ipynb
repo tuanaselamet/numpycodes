{
  "nbformat": 4,
  "nbformat_minor": 0,
  "metadata": {
    "colab": {
      "provenance": []
    },
    "kernelspec": {
      "name": "python3",
      "display_name": "Python 3"
    },
    "language_info": {
      "name": "python"
    }
  },
  "cells": [
    {
      "cell_type": "code",
      "execution_count": null,
      "metadata": {
        "id": "PyFLcf1klRyN"
      },
      "outputs": [],
      "source": [
        "import numpy as np"
      ]
    },
    {
      "cell_type": "code",
      "source": [
        "allmovies = {\"Grich\": {\"Type\": \"Comedy, Thriller\",\n",
        "                    \"Production\": 2000,\n",
        "                    \"Director\": \"Ron Howard\",\n",
        "                    \"Actors\":\"Jim Carrey,Taylo Momsen,Jeffrey Tambor\"},\n",
        "             \"Home Alone\":{\"Type\":\"Comedy\",\n",
        "                           \"Production\":1990,\n",
        "                           \"Director\":\"Chris Columbus\",\n",
        "                           \"Actors\":\"Macaulay Culkin,Joe Pesci,Daniel Stern\"},\n",
        "             \"A Clockwork Orange\":{\"Type\":\"Crime,Sci-Fi\",\n",
        "                                   \"Production\":1971,\n",
        "                                   \"Director\":\"Stanley Kubrick\",\n",
        "                                   \"Actors\":\"Malcolm McDowell,Adrienne Corri,Patrick Magee\"},\n",
        "             \"Anabelle\":{\"Type\":\"Horror\",\n",
        "                         \"Production\":2014,\n",
        "                         \"Director\":\"John Leonetti\",\n",
        "                         \"Actors\":\"Annabelle Wallis,Ward Horton,Alfre Woodard\"},\n",
        "             \"The Godfather\":{\"Type\":\"Crime,Thriller\",\n",
        "                              \"Production\":1971,\n",
        "                              \"Director\":\"Francis Ford\",\n",
        "                              \"Actors\":\"Al Pacino,Marlon Brando,James Caan\"}}"
      ],
      "metadata": {
        "id": "1cOmsWlkr6Yc"
      },
      "execution_count": null,
      "outputs": []
    },
    {
      "cell_type": "code",
      "source": [
        "allmovies[\"Grich\"]"
      ],
      "metadata": {
        "colab": {
          "base_uri": "https://localhost:8080/"
        },
        "id": "_INkBRtY5Moc",
        "outputId": "7cb793c1-87f8-4210-f2c3-b24e00584beb"
      },
      "execution_count": null,
      "outputs": [
        {
          "output_type": "execute_result",
          "data": {
            "text/plain": [
              "{'Type': 'Comedy, Thriller',\n",
              " 'Production': 2000,\n",
              " 'Director': 'Ron Howard',\n",
              " 'Actors': 'Jim Carrey,Taylo Momsen,Jeffrey Tambor'}"
            ]
          },
          "metadata": {},
          "execution_count": 35
        }
      ]
    },
    {
      "cell_type": "code",
      "source": [
        "allmovies.keys()\n"
      ],
      "metadata": {
        "colab": {
          "base_uri": "https://localhost:8080/"
        },
        "id": "os1QG5uUbTIH",
        "outputId": "9cf1d15e-e283-4299-ef82-4b29e1373b0a"
      },
      "execution_count": null,
      "outputs": [
        {
          "output_type": "execute_result",
          "data": {
            "text/plain": [
              "dict_keys(['Grich', 'Home Alone', 'A Clockwork Orange', 'Anabelle', 'The Godfather'])"
            ]
          },
          "metadata": {},
          "execution_count": 36
        }
      ]
    },
    {
      "cell_type": "code",
      "source": [
        "allmovies[\"The Godfather\"][\"Actors\"]"
      ],
      "metadata": {
        "colab": {
          "base_uri": "https://localhost:8080/",
          "height": 35
        },
        "id": "TVadZrUUaXwm",
        "outputId": "27841c32-fa3c-46dc-efb1-c1781b50462e"
      },
      "execution_count": null,
      "outputs": [
        {
          "output_type": "execute_result",
          "data": {
            "text/plain": [
              "'Al Pacino,Marlon Brando,James Caan'"
            ],
            "application/vnd.google.colaboratory.intrinsic+json": {
              "type": "string"
            }
          },
          "metadata": {},
          "execution_count": 37
        }
      ]
    },
    {
      "cell_type": "code",
      "source": [
        "allmovies[\"A Clockwork Orange\"][\"Type\"] + \" and \" + allmovies[\"A Clockwork Orange\"][\"Actors\"]\n"
      ],
      "metadata": {
        "colab": {
          "base_uri": "https://localhost:8080/",
          "height": 35
        },
        "id": "JWDWE_WHbsrS",
        "outputId": "04941cf5-3a5d-4257-f47d-a45ad67e7093"
      },
      "execution_count": null,
      "outputs": [
        {
          "output_type": "execute_result",
          "data": {
            "text/plain": [
              "'Crime,Sci-Fi and Malcolm McDowell,Adrienne Corri,Patrick Magee'"
            ],
            "application/vnd.google.colaboratory.intrinsic+json": {
              "type": "string"
            }
          },
          "metadata": {},
          "execution_count": 38
        }
      ]
    }
  ]
}