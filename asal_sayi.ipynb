{
  "nbformat": 4,
  "nbformat_minor": 0,
  "metadata": {
    "colab": {
      "provenance": []
    },
    "kernelspec": {
      "name": "python3",
      "display_name": "Python 3"
    },
    "language_info": {
      "name": "python"
    }
  },
  "cells": [
    {
      "cell_type": "code",
      "source": [
        "def kontrol(s):\n",
        "    if s < 2:\n",
        "        return False\n",
        "    for i in range(2, int(s ** 0.5) + 1):\n",
        "        if s % i == 0:\n",
        "            return False\n",
        "    return True\n",
        "\n",
        "def a_say(s):\n",
        "    asal_sayilar = []\n",
        "    for num in range(2, s + 1):\n",
        "        if kontrol(num):\n",
        "            asal_sayilar.append(num)\n",
        "    return asal_sayilar"
      ],
      "metadata": {
        "id": "jsU6T0qRhr6b"
      },
      "execution_count": 20,
      "outputs": []
    },
    {
      "cell_type": "code",
      "source": [
        "s = int(input(\" sayı girin: \"))\n",
        "asal_sayilar = a_say(s)\n",
        "\n",
        "print(f\"{s}'e kadar olan asal sayılar bunlardir : {asal_sayilar}\")\n"
      ],
      "metadata": {
        "id": "M7LXEQrmh8UY"
      },
      "execution_count": null,
      "outputs": []
    }
  ]
}