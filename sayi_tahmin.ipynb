{
  "nbformat": 4,
  "nbformat_minor": 0,
  "metadata": {
    "colab": {
      "provenance": []
    },
    "kernelspec": {
      "name": "python3",
      "display_name": "Python 3"
    },
    "language_info": {
      "name": "python"
    }
  },
  "cells": [
    {
      "cell_type": "code",
      "execution_count": 47,
      "metadata": {
        "id": "XuVomWL_wPt3"
      },
      "outputs": [],
      "source": [
        "import numpy as np\n",
        "import random"
      ]
    },
    {
      "cell_type": "code",
      "source": [
        "def sayi_t():\n",
        "    print(\"1 ile 100 arasında tutulan  bir sayı tahmin edin\")\n",
        "\n",
        "    pc_s = random.randint(1, 100)\n",
        "    tahmin = 0\n",
        "\n",
        "    while True:\n",
        "        try:\n",
        "            # Kullanıcının tahminini al\n",
        "            k_s = int(input(\"Tahmininizi girin: \"))\n",
        "        except ValueError:\n",
        "            print(\"Geçerli bir sayı girin.\")\n",
        "            continue\n",
        "\n",
        "        tahmin += 1\n",
        "\n",
        "        if k_s < pc_s:\n",
        "            print(\"Daha büyük bir sayı dene.\")\n",
        "        elif k_s > pc_s:\n",
        "            print(\"Daha küçük bir sayı dene.\")\n",
        "        else:\n",
        "            print(f\"Tebrikler! {tahmin}. denemede buldunuz.\")\n",
        "            break\n",
        "\n",
        "sayi_t()"
      ],
      "metadata": {
        "colab": {
          "base_uri": "https://localhost:8080/"
        },
        "id": "GX0Ms6_46bmt",
        "outputId": "a0fa09a4-2ee8-45e6-a86d-ddd6b134f085"
      },
      "execution_count": null,
      "outputs": [
        {
          "output_type": "stream",
          "name": "stdout",
          "text": [
            "Merhaba! 1 ile 100 arasında bir sayı tahmin etmeye ne dersin?\n"
          ]
        }
      ]
    }
  ]
}